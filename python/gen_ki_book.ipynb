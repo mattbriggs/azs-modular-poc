{
 "cells": [
  {
   "cell_type": "markdown",
   "metadata": {},
   "source": [
    "# Azure Stack Hub Known Issues - Publication Process for markdown\n",
    "\n",
    "You can find the sketch of this process at: 2020.6.18 - Initial Publication Process in the AzS Hub Content Strategy OneNote.\n",
    "This is an update to create the views for individaul areas: 2020.8.27."
   ]
  },
  {
   "cell_type": "code",
   "execution_count": 1,
   "metadata": {},
   "outputs": [],
   "source": [
    "import pandas as pd\n",
    "import numpy as np"
   ]
  },
  {
   "cell_type": "code",
   "execution_count": 2,
   "metadata": {},
   "outputs": [
    {
     "output_type": "execute_result",
     "data": {
      "text/plain": "                                                title  \\\n66          Virtual machine diagnostic settings blade   \n67  Virtual machine scale set reset password does ...   \n68               Rainy cloud on scale set diagnostics   \n69                          Issues creating resources   \n70          Virtual machine diagnostic settings blade   \n\n                                        Applicable to  \\\n66      This issue applies to all supported releases.   \n67  This issue applies to the 1906 and 1907 releases.   \n68  This issue applies to the 1906 and 1907 releases.   \n69            This issue applies to the 1906 release.   \n70  This issue applies to the 1906 and 1907 releases.   \n\n                                          Description  \\\n66  The virtual machine diagnostic settings blade ...   \n67  A new reset password blade appears in the scal...   \n68  The virtual machine scale set overview page sh...   \n69  There is a known issue in 1906 with custom rol...   \n70  The virtual machine diagnostic settings blade ...   \n\n                                          Remediation Occurrence      author  \\\n66                                              None.     Common  mattbriggs   \n67                                              None.     Common  mattbriggs   \n68                                              None.     Common  mattbriggs   \n69  Please update to build 1907 to mitigate this i...     Common  mattbriggs   \n70                                              None.     Common  mattbriggs   \n\n     ms.service ms.topic     ms.date ms.author ms.reviewer ms.lastreviewed  \\\n66  azure-stack  include  2020-08-14   mabrigg    kivenkat      2020-08-14   \n67  azure-stack  include  2020-08-14   mabrigg    kivenkat      2020-08-14   \n68  azure-stack  include  2020-08-14   mabrigg    kivenkat      2020-08-14   \n69  azure-stack  include  2020-08-14   mabrigg    kivenkat      2020-08-14   \n70  azure-stack  include  2020-08-14   mabrigg    kivenkat      2020-08-14   \n\n      ms.sub-service  azs.tracking  \\\n66  Virtual Machines        123456   \n67  Virtual Machines        123456   \n68  Virtual Machines        123456   \n69  Virtual Machines        123456   \n70  Virtual Machines        123456   \n\n                                        azs.issue-id azs.status  \\\n66  known-issue-f80a8111-eab0-ea11-a812-000d3a5465d8     active   \n67  known-issue-f90a8111-eab0-ea11-a812-000d3a5465d8     active   \n68  known-issue-fb0a8111-eab0-ea11-a812-000d3a5465d8     active   \n69  known-issue-fd0a8111-eab0-ea11-a812-000d3a5465d8     active   \n70  known-issue-ff0a8111-eab0-ea11-a812-000d3a5465d8     active   \n\n   azs.topic-schema azs.audience  azs.highlight  \n66      known-issue     Operator          False  \n67      known-issue     Operator          False  \n68      known-issue     Operator          False  \n69      known-issue     Operator          False  \n70      known-issue     Operator          False  ",
      "text/html": "<div>\n<style scoped>\n    .dataframe tbody tr th:only-of-type {\n        vertical-align: middle;\n    }\n\n    .dataframe tbody tr th {\n        vertical-align: top;\n    }\n\n    .dataframe thead th {\n        text-align: right;\n    }\n</style>\n<table border=\"1\" class=\"dataframe\">\n  <thead>\n    <tr style=\"text-align: right;\">\n      <th></th>\n      <th>title</th>\n      <th>Applicable to</th>\n      <th>Description</th>\n      <th>Remediation</th>\n      <th>Occurrence</th>\n      <th>author</th>\n      <th>ms.service</th>\n      <th>ms.topic</th>\n      <th>ms.date</th>\n      <th>ms.author</th>\n      <th>ms.reviewer</th>\n      <th>ms.lastreviewed</th>\n      <th>ms.sub-service</th>\n      <th>azs.tracking</th>\n      <th>azs.issue-id</th>\n      <th>azs.status</th>\n      <th>azs.topic-schema</th>\n      <th>azs.audience</th>\n      <th>azs.highlight</th>\n    </tr>\n  </thead>\n  <tbody>\n    <tr>\n      <th>66</th>\n      <td>Virtual machine diagnostic settings blade</td>\n      <td>This issue applies to all supported releases.</td>\n      <td>The virtual machine diagnostic settings blade ...</td>\n      <td>None.</td>\n      <td>Common</td>\n      <td>mattbriggs</td>\n      <td>azure-stack</td>\n      <td>include</td>\n      <td>2020-08-14</td>\n      <td>mabrigg</td>\n      <td>kivenkat</td>\n      <td>2020-08-14</td>\n      <td>Virtual Machines</td>\n      <td>123456</td>\n      <td>known-issue-f80a8111-eab0-ea11-a812-000d3a5465d8</td>\n      <td>active</td>\n      <td>known-issue</td>\n      <td>Operator</td>\n      <td>False</td>\n    </tr>\n    <tr>\n      <th>67</th>\n      <td>Virtual machine scale set reset password does ...</td>\n      <td>This issue applies to the 1906 and 1907 releases.</td>\n      <td>A new reset password blade appears in the scal...</td>\n      <td>None.</td>\n      <td>Common</td>\n      <td>mattbriggs</td>\n      <td>azure-stack</td>\n      <td>include</td>\n      <td>2020-08-14</td>\n      <td>mabrigg</td>\n      <td>kivenkat</td>\n      <td>2020-08-14</td>\n      <td>Virtual Machines</td>\n      <td>123456</td>\n      <td>known-issue-f90a8111-eab0-ea11-a812-000d3a5465d8</td>\n      <td>active</td>\n      <td>known-issue</td>\n      <td>Operator</td>\n      <td>False</td>\n    </tr>\n    <tr>\n      <th>68</th>\n      <td>Rainy cloud on scale set diagnostics</td>\n      <td>This issue applies to the 1906 and 1907 releases.</td>\n      <td>The virtual machine scale set overview page sh...</td>\n      <td>None.</td>\n      <td>Common</td>\n      <td>mattbriggs</td>\n      <td>azure-stack</td>\n      <td>include</td>\n      <td>2020-08-14</td>\n      <td>mabrigg</td>\n      <td>kivenkat</td>\n      <td>2020-08-14</td>\n      <td>Virtual Machines</td>\n      <td>123456</td>\n      <td>known-issue-fb0a8111-eab0-ea11-a812-000d3a5465d8</td>\n      <td>active</td>\n      <td>known-issue</td>\n      <td>Operator</td>\n      <td>False</td>\n    </tr>\n    <tr>\n      <th>69</th>\n      <td>Issues creating resources</td>\n      <td>This issue applies to the 1906 release.</td>\n      <td>There is a known issue in 1906 with custom rol...</td>\n      <td>Please update to build 1907 to mitigate this i...</td>\n      <td>Common</td>\n      <td>mattbriggs</td>\n      <td>azure-stack</td>\n      <td>include</td>\n      <td>2020-08-14</td>\n      <td>mabrigg</td>\n      <td>kivenkat</td>\n      <td>2020-08-14</td>\n      <td>Virtual Machines</td>\n      <td>123456</td>\n      <td>known-issue-fd0a8111-eab0-ea11-a812-000d3a5465d8</td>\n      <td>active</td>\n      <td>known-issue</td>\n      <td>Operator</td>\n      <td>False</td>\n    </tr>\n    <tr>\n      <th>70</th>\n      <td>Virtual machine diagnostic settings blade</td>\n      <td>This issue applies to the 1906 and 1907 releases.</td>\n      <td>The virtual machine diagnostic settings blade ...</td>\n      <td>None.</td>\n      <td>Common</td>\n      <td>mattbriggs</td>\n      <td>azure-stack</td>\n      <td>include</td>\n      <td>2020-08-14</td>\n      <td>mabrigg</td>\n      <td>kivenkat</td>\n      <td>2020-08-14</td>\n      <td>Virtual Machines</td>\n      <td>123456</td>\n      <td>known-issue-ff0a8111-eab0-ea11-a812-000d3a5465d8</td>\n      <td>active</td>\n      <td>known-issue</td>\n      <td>Operator</td>\n      <td>False</td>\n    </tr>\n  </tbody>\n</table>\n</div>"
     },
     "metadata": {},
     "execution_count": 2
    }
   ],
   "source": [
    "# create dataframe and drop columns and all but not ready rows.\n",
    "\n",
    "data = pd.read_csv(\"../Data/knownissues_report_powerbi.csv\")\n",
    "data.tail()"
   ]
  },
  {
   "cell_type": "code",
   "execution_count": 3,
   "metadata": {},
   "outputs": [
    {
     "output_type": "execute_result",
     "data": {
      "text/plain": "                    ms.sub-service  \\\nms.sub-service                       \nApp Services          App Services   \nKubernetes              Kubernetes   \nNetwork                    Network   \nPatch and Update  Patch and Update   \nSQL and MySQL        SQL and MySQL   \nVirtual Machines  Virtual Machines   \n\n                                                      azs.issue-id  \nms.sub-service                                                      \nApp Services      known-issue-a7bc45b7-ebb0-ea11-a812-000d3a5465d8  \nKubernetes        known-issue-15799987-988a-4c68-bd67-9e66174176e2  \nNetwork           known-issue-1d0b8111-eab0-ea11-a812-000d3a5465d8  \nPatch and Update  known-issue-aabc45b7-ebb0-ea11-a812-000d3a5465d8  \nSQL and MySQL     known-issue-a6bc45b7-ebb0-ea11-a812-000d3a5465d8  \nVirtual Machines  known-issue-ff0a8111-eab0-ea11-a812-000d3a5465d8  ",
      "text/html": "<div>\n<style scoped>\n    .dataframe tbody tr th:only-of-type {\n        vertical-align: middle;\n    }\n\n    .dataframe tbody tr th {\n        vertical-align: top;\n    }\n\n    .dataframe thead th {\n        text-align: right;\n    }\n</style>\n<table border=\"1\" class=\"dataframe\">\n  <thead>\n    <tr style=\"text-align: right;\">\n      <th></th>\n      <th>ms.sub-service</th>\n      <th>azs.issue-id</th>\n    </tr>\n    <tr>\n      <th>ms.sub-service</th>\n      <th></th>\n      <th></th>\n    </tr>\n  </thead>\n  <tbody>\n    <tr>\n      <th>App Services</th>\n      <td>App Services</td>\n      <td>known-issue-a7bc45b7-ebb0-ea11-a812-000d3a5465d8</td>\n    </tr>\n    <tr>\n      <th>Kubernetes</th>\n      <td>Kubernetes</td>\n      <td>known-issue-15799987-988a-4c68-bd67-9e66174176e2</td>\n    </tr>\n    <tr>\n      <th>Network</th>\n      <td>Network</td>\n      <td>known-issue-1d0b8111-eab0-ea11-a812-000d3a5465d8</td>\n    </tr>\n    <tr>\n      <th>Patch and Update</th>\n      <td>Patch and Update</td>\n      <td>known-issue-aabc45b7-ebb0-ea11-a812-000d3a5465d8</td>\n    </tr>\n    <tr>\n      <th>SQL and MySQL</th>\n      <td>SQL and MySQL</td>\n      <td>known-issue-a6bc45b7-ebb0-ea11-a812-000d3a5465d8</td>\n    </tr>\n    <tr>\n      <th>Virtual Machines</th>\n      <td>Virtual Machines</td>\n      <td>known-issue-ff0a8111-eab0-ea11-a812-000d3a5465d8</td>\n    </tr>\n  </tbody>\n</table>\n</div>"
     },
     "metadata": {},
     "execution_count": 3
    }
   ],
   "source": [
    "active_KI = data[(data[\"azs.status\"] == 'active')]\n",
    "group_KI = active_KI.groupby('ms.sub-service')[['ms.sub-service','azs.issue-id']]\n",
    "group_KI.last()"
   ]
  },
  {
   "cell_type": "code",
   "execution_count": 4,
   "metadata": {
    "tags": []
   },
   "outputs": [
    {
     "output_type": "stream",
     "name": "stdout",
     "text": "\n\n## App Services\n\n![INCLUDE](/azure-stack/include/known-issue-a7bc45b7-ebb0-ea11-a812-000d3a5465d8.md)\n\n\n## Kubernetes\n\n![INCLUDE](/azure-stack/include/known-issue-15799987-988a-4c68-bd67-9e66174176e2.md)\n\n\n## Network\n\n![INCLUDE](/azure-stack/include/known-issue-000b8111-eab0-ea11-a812-000d3a5465d8.md)\n![INCLUDE](/azure-stack/include/known-issue-010b8111-eab0-ea11-a812-000d3a5465d8.md)\n![INCLUDE](/azure-stack/include/known-issue-030b8111-eab0-ea11-a812-000d3a5465d8.md)\n![INCLUDE](/azure-stack/include/known-issue-040b8111-eab0-ea11-a812-000d3a5465d8.md)\n![INCLUDE](/azure-stack/include/known-issue-050b8111-eab0-ea11-a812-000d3a5465d8.md)\n![INCLUDE](/azure-stack/include/known-issue-060b8111-eab0-ea11-a812-000d3a5465d8.md)\n![INCLUDE](/azure-stack/include/known-issue-070b8111-eab0-ea11-a812-000d3a5465d8.md)\n![INCLUDE](/azure-stack/include/known-issue-090b8111-eab0-ea11-a812-000d3a5465d8.md)\n![INCLUDE](/azure-stack/include/known-issue-0a0b8111-eab0-ea11-a812-000d3a5465d8.md)\n![INCLUDE](/azure-stack/include/known-issue-0b0b8111-eab0-ea11-a812-000d3a5465d8.md)\n![INCLUDE](/azure-stack/include/known-issue-0c0b8111-eab0-ea11-a812-000d3a5465d8.md)\n![INCLUDE](/azure-stack/include/known-issue-0d0b8111-eab0-ea11-a812-000d3a5465d8.md)\n![INCLUDE](/azure-stack/include/known-issue-0e0b8111-eab0-ea11-a812-000d3a5465d8.md)\n![INCLUDE](/azure-stack/include/known-issue-0f0b8111-eab0-ea11-a812-000d3a5465d8.md)\n![INCLUDE](/azure-stack/include/known-issue-100b8111-eab0-ea11-a812-000d3a5465d8.md)\n![INCLUDE](/azure-stack/include/known-issue-110b8111-eab0-ea11-a812-000d3a5465d8.md)\n![INCLUDE](/azure-stack/include/known-issue-140b8111-eab0-ea11-a812-000d3a5465d8.md)\n![INCLUDE](/azure-stack/include/known-issue-160b8111-eab0-ea11-a812-000d3a5465d8.md)\n![INCLUDE](/azure-stack/include/known-issue-180b8111-eab0-ea11-a812-000d3a5465d8.md)\n![INCLUDE](/azure-stack/include/known-issue-190b8111-eab0-ea11-a812-000d3a5465d8.md)\n![INCLUDE](/azure-stack/include/known-issue-1b0b8111-eab0-ea11-a812-000d3a5465d8.md)\n![INCLUDE](/azure-stack/include/known-issue-1d0b8111-eab0-ea11-a812-000d3a5465d8.md)\n\n\n## Patch and Update\n\n![INCLUDE](/azure-stack/include/known-issue-a8bc45b7-ebb0-ea11-a812-000d3a5465d8.md)\n![INCLUDE](/azure-stack/include/known-issue-a9bc45b7-ebb0-ea11-a812-000d3a5465d8.md)\n![INCLUDE](/azure-stack/include/known-issue-aabc45b7-ebb0-ea11-a812-000d3a5465d8.md)\n\n\n## SQL and MySQL\n\n![INCLUDE](/azure-stack/include/known-issue-a6bc45b7-ebb0-ea11-a812-000d3a5465d8.md)\n\n\n## Virtual Machines\n\n![INCLUDE](/azure-stack/include/known-issue-5c3348db-e9b0-ea11-a812-000d3a5465d8.md)\n![INCLUDE](/azure-stack/include/known-issue-603348db-e9b0-ea11-a812-000d3a5465d8.md)\n![INCLUDE](/azure-stack/include/known-issue-8376b38e-e9b0-ea11-a812-000d3a54663d.md)\n![INCLUDE](/azure-stack/include/known-issue-87bc45b7-ebb0-ea11-a812-000d3a5465d8.md)\n![INCLUDE](/azure-stack/include/known-issue-8abc45b7-ebb0-ea11-a812-000d3a5465d8.md)\n![INCLUDE](/azure-stack/include/known-issue-8bbc45b7-ebb0-ea11-a812-000d3a5465d8.md)\n![INCLUDE](/azure-stack/include/known-issue-8cbc45b7-ebb0-ea11-a812-000d3a5465d8.md)\n![INCLUDE](/azure-stack/include/known-issue-8dbc45b7-ebb0-ea11-a812-000d3a5465d8.md)\n![INCLUDE](/azure-stack/include/known-issue-8ebc45b7-ebb0-ea11-a812-000d3a5465d8.md)\n![INCLUDE](/azure-stack/include/known-issue-8fbc45b7-ebb0-ea11-a812-000d3a5465d8.md)\n![INCLUDE](/azure-stack/include/known-issue-92bc45b7-ebb0-ea11-a812-000d3a5465d8.md)\n![INCLUDE](/azure-stack/include/known-issue-93bc45b7-ebb0-ea11-a812-000d3a5465d8.md)\n![INCLUDE](/azure-stack/include/known-issue-9476b38e-e9b0-ea11-a812-000d3a54663d.md)\n![INCLUDE](/azure-stack/include/known-issue-9576b38e-e9b0-ea11-a812-000d3a54663d.md)\n![INCLUDE](/azure-stack/include/known-issue-95bc45b7-ebb0-ea11-a812-000d3a5465d8.md)\n![INCLUDE](/azure-stack/include/known-issue-9676b38e-e9b0-ea11-a812-000d3a54663d.md)\n![INCLUDE](/azure-stack/include/known-issue-9776b38e-e9b0-ea11-a812-000d3a54663d.md)\n![INCLUDE](/azure-stack/include/known-issue-97bc45b7-ebb0-ea11-a812-000d3a5465d8.md)\n![INCLUDE](/azure-stack/include/known-issue-98bc45b7-ebb0-ea11-a812-000d3a5465d8.md)\n![INCLUDE](/azure-stack/include/known-issue-99bc45b7-ebb0-ea11-a812-000d3a5465d8.md)\n![INCLUDE](/azure-stack/include/known-issue-9abc45b7-ebb0-ea11-a812-000d3a5465d8.md)\n![INCLUDE](/azure-stack/include/known-issue-9b76b38e-e9b0-ea11-a812-000d3a54663d.md)\n![INCLUDE](/azure-stack/include/known-issue-9cbc45b7-ebb0-ea11-a812-000d3a5465d8.md)\n![INCLUDE](/azure-stack/include/known-issue-9ebc45b7-ebb0-ea11-a812-000d3a5465d8.md)\n![INCLUDE](/azure-stack/include/known-issue-9fbc45b7-ebb0-ea11-a812-000d3a5465d8.md)\n![INCLUDE](/azure-stack/include/known-issue-a2bc45b7-ebb0-ea11-a812-000d3a5465d8.md)\n![INCLUDE](/azure-stack/include/known-issue-a3bc45b7-ebb0-ea11-a812-000d3a5465d8.md)\n![INCLUDE](/azure-stack/include/known-issue-a4bc45b7-ebb0-ea11-a812-000d3a5465d8.md)\n![INCLUDE](/azure-stack/include/known-issue-a5bc45b7-ebb0-ea11-a812-000d3a5465d8.md)\n![INCLUDE](/azure-stack/include/known-issue-ea0a8111-eab0-ea11-a812-000d3a5465d8.md)\n![INCLUDE](/azure-stack/include/known-issue-eb0a8111-eab0-ea11-a812-000d3a5465d8.md)\n![INCLUDE](/azure-stack/include/known-issue-ec0a8111-eab0-ea11-a812-000d3a5465d8.md)\n![INCLUDE](/azure-stack/include/known-issue-ed0a8111-eab0-ea11-a812-000d3a5465d8.md)\n![INCLUDE](/azure-stack/include/known-issue-ee0a8111-eab0-ea11-a812-000d3a5465d8.md)\n![INCLUDE](/azure-stack/include/known-issue-f00a8111-eab0-ea11-a812-000d3a5465d8.md)\n![INCLUDE](/azure-stack/include/known-issue-f50a8111-eab0-ea11-a812-000d3a5465d8.md)\n![INCLUDE](/azure-stack/include/known-issue-f60a8111-eab0-ea11-a812-000d3a5465d8.md)\n![INCLUDE](/azure-stack/include/known-issue-f70a8111-eab0-ea11-a812-000d3a5465d8.md)\n![INCLUDE](/azure-stack/include/known-issue-f80a8111-eab0-ea11-a812-000d3a5465d8.md)\n![INCLUDE](/azure-stack/include/known-issue-f90a8111-eab0-ea11-a812-000d3a5465d8.md)\n![INCLUDE](/azure-stack/include/known-issue-fb0a8111-eab0-ea11-a812-000d3a5465d8.md)\n![INCLUDE](/azure-stack/include/known-issue-fd0a8111-eab0-ea11-a812-000d3a5465d8.md)\n![INCLUDE](/azure-stack/include/known-issue-ff0a8111-eab0-ea11-a812-000d3a5465d8.md)\n"
    }
   ],
   "source": [
    "for name, group in group_KI:\n",
    "    print(\"\\n\\n## {}\\n\".format(name))\n",
    "    for i in group['azs.issue-id'].get_values():\n",
    "        print(\"![INCLUDE](/azure-stack/include/{}.md)\".format(i))\n"
   ]
  },
  {
   "cell_type": "code",
   "execution_count": null,
   "metadata": {},
   "outputs": [],
   "source": []
  }
 ],
 "metadata": {
  "language_info": {
   "codemirror_mode": {
    "name": "ipython",
    "version": 3
   },
   "file_extension": ".py",
   "mimetype": "text/x-python",
   "name": "python",
   "nbconvert_exporter": "python",
   "pygments_lexer": "ipython3",
   "version": "3.8.2-final"
  },
  "orig_nbformat": 2,
  "kernelspec": {
   "name": "python38264bit62e9895a49574bcdb01ee01389d90044",
   "display_name": "Python 3.8.2 64-bit"
  }
 },
 "nbformat": 4,
 "nbformat_minor": 2
}