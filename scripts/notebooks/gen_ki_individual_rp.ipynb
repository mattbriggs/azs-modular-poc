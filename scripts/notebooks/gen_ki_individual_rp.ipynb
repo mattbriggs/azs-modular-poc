{
 "cells": [
  {
   "cell_type": "markdown",
   "metadata": {},
   "source": [
    "# Azure Stack Hub Known Issues - Publication Process for markdown\n",
    "\n",
    "You can find the sketch of this process at: 2020.6.18 - Initial Publication Process in the AzS Hub Content Strategy OneNote.\n",
    "This is an update to create the views for individaul areas: 2020.8.27."
   ]
  },
  {
   "cell_type": "code",
   "execution_count": 2,
   "metadata": {},
   "outputs": [],
   "source": [
    "import pandas as pd\n",
    "import numpy as np"
   ]
  },
  {
   "cell_type": "code",
   "execution_count": 3,
   "metadata": {},
   "outputs": [
    {
     "output_type": "execute_result",
     "data": {
      "text/plain": "                                                title Applicable to  \\\n67          Virtual machine diagnostic settings blade           all   \n68  Virtual machine scale set reset password does ...     1906-1907   \n69               Rainy cloud on scale set diagnostics     1906-1907   \n70                          Issues creating resources          1906   \n71          Virtual machine diagnostic settings blade     1906-1907   \n\n                                          Description  \\\n67  The virtual machine diagnostic settings blade ...   \n68  A new reset password blade appears in the scal...   \n69  The virtual machine scale set overview page sh...   \n70  There is a known issue in 1906 with custom rol...   \n71  The virtual machine diagnostic settings blade ...   \n\n                                          Remediation Occurrence      author  \\\n67                                              None.     Common  mattbriggs   \n68                                              None.     Common  mattbriggs   \n69                                              None.     Common  mattbriggs   \n70  Please update to build 1907 to mitigate this i...     Common  mattbriggs   \n71                                              None.     Common  mattbriggs   \n\n     ms.service ms.topic     ms.date ms.author ms.reviewer ms.lastreviewed  \\\n67  azure-stack  include  2020-08-14   mabrigg    kivenkat      2020-08-14   \n68  azure-stack  include  2020-08-14   mabrigg    kivenkat      2020-08-14   \n69  azure-stack  include  2020-08-14   mabrigg    kivenkat      2020-08-14   \n70  azure-stack  include  2020-08-14   mabrigg    kivenkat      2020-08-14   \n71  azure-stack  include  2020-08-14   mabrigg    kivenkat      2020-08-14   \n\n      ms.sub-service  azs.tracking  \\\n67  Virtual Machines        123456   \n68  Virtual Machines        123456   \n69  Virtual Machines        123456   \n70  Virtual Machines        123456   \n71  Virtual Machines        123456   \n\n                                        azs.issue-id azs.status  \\\n67  known-issue-f80a8111-eab0-ea11-a812-000d3a5465d8     active   \n68  known-issue-f90a8111-eab0-ea11-a812-000d3a5465d8     active   \n69  known-issue-fb0a8111-eab0-ea11-a812-000d3a5465d8     active   \n70  known-issue-fd0a8111-eab0-ea11-a812-000d3a5465d8     active   \n71  known-issue-ff0a8111-eab0-ea11-a812-000d3a5465d8     active   \n\n   azs.topic-schema azs.audience  azs.highlight  \n67      known-issue     Operator          False  \n68      known-issue     Operator          False  \n69      known-issue     Operator          False  \n70      known-issue     Operator          False  \n71      known-issue     Operator          False  ",
      "text/html": "<div>\n<style scoped>\n    .dataframe tbody tr th:only-of-type {\n        vertical-align: middle;\n    }\n\n    .dataframe tbody tr th {\n        vertical-align: top;\n    }\n\n    .dataframe thead th {\n        text-align: right;\n    }\n</style>\n<table border=\"1\" class=\"dataframe\">\n  <thead>\n    <tr style=\"text-align: right;\">\n      <th></th>\n      <th>title</th>\n      <th>Applicable to</th>\n      <th>Description</th>\n      <th>Remediation</th>\n      <th>Occurrence</th>\n      <th>author</th>\n      <th>ms.service</th>\n      <th>ms.topic</th>\n      <th>ms.date</th>\n      <th>ms.author</th>\n      <th>ms.reviewer</th>\n      <th>ms.lastreviewed</th>\n      <th>ms.sub-service</th>\n      <th>azs.tracking</th>\n      <th>azs.issue-id</th>\n      <th>azs.status</th>\n      <th>azs.topic-schema</th>\n      <th>azs.audience</th>\n      <th>azs.highlight</th>\n    </tr>\n  </thead>\n  <tbody>\n    <tr>\n      <th>67</th>\n      <td>Virtual machine diagnostic settings blade</td>\n      <td>all</td>\n      <td>The virtual machine diagnostic settings blade ...</td>\n      <td>None.</td>\n      <td>Common</td>\n      <td>mattbriggs</td>\n      <td>azure-stack</td>\n      <td>include</td>\n      <td>2020-08-14</td>\n      <td>mabrigg</td>\n      <td>kivenkat</td>\n      <td>2020-08-14</td>\n      <td>Virtual Machines</td>\n      <td>123456</td>\n      <td>known-issue-f80a8111-eab0-ea11-a812-000d3a5465d8</td>\n      <td>active</td>\n      <td>known-issue</td>\n      <td>Operator</td>\n      <td>False</td>\n    </tr>\n    <tr>\n      <th>68</th>\n      <td>Virtual machine scale set reset password does ...</td>\n      <td>1906-1907</td>\n      <td>A new reset password blade appears in the scal...</td>\n      <td>None.</td>\n      <td>Common</td>\n      <td>mattbriggs</td>\n      <td>azure-stack</td>\n      <td>include</td>\n      <td>2020-08-14</td>\n      <td>mabrigg</td>\n      <td>kivenkat</td>\n      <td>2020-08-14</td>\n      <td>Virtual Machines</td>\n      <td>123456</td>\n      <td>known-issue-f90a8111-eab0-ea11-a812-000d3a5465d8</td>\n      <td>active</td>\n      <td>known-issue</td>\n      <td>Operator</td>\n      <td>False</td>\n    </tr>\n    <tr>\n      <th>69</th>\n      <td>Rainy cloud on scale set diagnostics</td>\n      <td>1906-1907</td>\n      <td>The virtual machine scale set overview page sh...</td>\n      <td>None.</td>\n      <td>Common</td>\n      <td>mattbriggs</td>\n      <td>azure-stack</td>\n      <td>include</td>\n      <td>2020-08-14</td>\n      <td>mabrigg</td>\n      <td>kivenkat</td>\n      <td>2020-08-14</td>\n      <td>Virtual Machines</td>\n      <td>123456</td>\n      <td>known-issue-fb0a8111-eab0-ea11-a812-000d3a5465d8</td>\n      <td>active</td>\n      <td>known-issue</td>\n      <td>Operator</td>\n      <td>False</td>\n    </tr>\n    <tr>\n      <th>70</th>\n      <td>Issues creating resources</td>\n      <td>1906</td>\n      <td>There is a known issue in 1906 with custom rol...</td>\n      <td>Please update to build 1907 to mitigate this i...</td>\n      <td>Common</td>\n      <td>mattbriggs</td>\n      <td>azure-stack</td>\n      <td>include</td>\n      <td>2020-08-14</td>\n      <td>mabrigg</td>\n      <td>kivenkat</td>\n      <td>2020-08-14</td>\n      <td>Virtual Machines</td>\n      <td>123456</td>\n      <td>known-issue-fd0a8111-eab0-ea11-a812-000d3a5465d8</td>\n      <td>active</td>\n      <td>known-issue</td>\n      <td>Operator</td>\n      <td>False</td>\n    </tr>\n    <tr>\n      <th>71</th>\n      <td>Virtual machine diagnostic settings blade</td>\n      <td>1906-1907</td>\n      <td>The virtual machine diagnostic settings blade ...</td>\n      <td>None.</td>\n      <td>Common</td>\n      <td>mattbriggs</td>\n      <td>azure-stack</td>\n      <td>include</td>\n      <td>2020-08-14</td>\n      <td>mabrigg</td>\n      <td>kivenkat</td>\n      <td>2020-08-14</td>\n      <td>Virtual Machines</td>\n      <td>123456</td>\n      <td>known-issue-ff0a8111-eab0-ea11-a812-000d3a5465d8</td>\n      <td>active</td>\n      <td>known-issue</td>\n      <td>Operator</td>\n      <td>False</td>\n    </tr>\n  </tbody>\n</table>\n</div>"
     },
     "metadata": {},
     "execution_count": 3
    }
   ],
   "source": [
    "# create dataframe and drop columns and all but not ready rows.\n",
    "\n",
    "data = pd.read_csv(\"../../data/reports/knownissues_report_powerbi.csv\")\n",
    "data.tail()"
   ]
  },
  {
   "cell_type": "code",
   "execution_count": 50,
   "metadata": {
    "tags": []
   },
   "outputs": [
    {
     "output_type": "execute_result",
     "data": {
      "text/plain": "   azs.audience    ms.sub-service Applicable to  \\\n67     Operator  Virtual Machines           all   \n68     Operator  Virtual Machines     1906-1907   \n69     Operator  Virtual Machines     1906-1907   \n70     Operator  Virtual Machines          1906   \n71     Operator  Virtual Machines     1906-1907   \n\n                                        azs.issue-id  \n67  known-issue-f80a8111-eab0-ea11-a812-000d3a5465d8  \n68  known-issue-f90a8111-eab0-ea11-a812-000d3a5465d8  \n69  known-issue-fb0a8111-eab0-ea11-a812-000d3a5465d8  \n70  known-issue-fd0a8111-eab0-ea11-a812-000d3a5465d8  \n71  known-issue-ff0a8111-eab0-ea11-a812-000d3a5465d8  ",
      "text/html": "<div>\n<style scoped>\n    .dataframe tbody tr th:only-of-type {\n        vertical-align: middle;\n    }\n\n    .dataframe tbody tr th {\n        vertical-align: top;\n    }\n\n    .dataframe thead th {\n        text-align: right;\n    }\n</style>\n<table border=\"1\" class=\"dataframe\">\n  <thead>\n    <tr style=\"text-align: right;\">\n      <th></th>\n      <th>azs.audience</th>\n      <th>ms.sub-service</th>\n      <th>Applicable to</th>\n      <th>azs.issue-id</th>\n    </tr>\n  </thead>\n  <tbody>\n    <tr>\n      <th>67</th>\n      <td>Operator</td>\n      <td>Virtual Machines</td>\n      <td>all</td>\n      <td>known-issue-f80a8111-eab0-ea11-a812-000d3a5465d8</td>\n    </tr>\n    <tr>\n      <th>68</th>\n      <td>Operator</td>\n      <td>Virtual Machines</td>\n      <td>1906-1907</td>\n      <td>known-issue-f90a8111-eab0-ea11-a812-000d3a5465d8</td>\n    </tr>\n    <tr>\n      <th>69</th>\n      <td>Operator</td>\n      <td>Virtual Machines</td>\n      <td>1906-1907</td>\n      <td>known-issue-fb0a8111-eab0-ea11-a812-000d3a5465d8</td>\n    </tr>\n    <tr>\n      <th>70</th>\n      <td>Operator</td>\n      <td>Virtual Machines</td>\n      <td>1906</td>\n      <td>known-issue-fd0a8111-eab0-ea11-a812-000d3a5465d8</td>\n    </tr>\n    <tr>\n      <th>71</th>\n      <td>Operator</td>\n      <td>Virtual Machines</td>\n      <td>1906-1907</td>\n      <td>known-issue-ff0a8111-eab0-ea11-a812-000d3a5465d8</td>\n    </tr>\n  </tbody>\n</table>\n</div>"
     },
     "metadata": {},
     "execution_count": 50
    }
   ],
   "source": [
    "active_items = data.loc[(data['azs.status'] == 'active')]\n",
    "rp = active_items[['azs.audience', 'ms.sub-service', 'Applicable to', 'azs.issue-id']]\n",
    "rp.tail()\n"
   ]
  },
  {
   "cell_type": "code",
   "execution_count": 54,
   "metadata": {
    "tags": []
   },
   "outputs": [
    {
     "output_type": "error",
     "ename": "SyntaxError",
     "evalue": "invalid character in identifier (&lt;ipython-input-54-40dd1afb67c6&gt;, line 17)",
     "traceback": [
      "\u001b[1;36m  File \u001b[1;32m&quot;&lt;ipython-input-54-40dd1afb67c6&gt;&quot;\u001b[1;36m, line \u001b[1;32m17\u001b[0m\n\u001b[1;33m    print(&#39;::: moniker-end&#39;)\u001b[0m\n\u001b[1;37m        ^\u001b[0m\n\u001b[1;31mSyntaxError\u001b[0m\u001b[1;31m:\u001b[0m invalid character in identifier\n"
     ]
    }
   ],
   "source": [
    "audience = rp.groupby('azs.audience')\n",
    "for a in audience:\n",
    "    a_stem = a[0].lower()\n",
    "    print(a_stem)\n",
    "    groups = a[1].groupby('ms.sub-service')\n",
    "    for g in groups:\n",
    "        rp_stem = g[0].replace(\" \", \"-\").lower()\n",
    "        file_name = \"target/{}/{}.md\".format(a_stem, rp_stem)\n",
    "        print(file_name)\n",
    "        print(\"-- start file -- \\n\")\n",
    "        releases = g[1].groupby('Applicable to')\n",
    "        for r in releases:\n",
    "            print('::: moniker range=\"<azs-{}\"'.format(r[0]))\n",
    "            items = r[1].groupby('azs.issue-id')\n",
    "            for i in items:\n",
    "                print(\"![INCLUDE](/azure-stack/include/{}0.md\".format(i[0]))\n",
    "            print(\"::: moniker-end\")\n",
    "        print(\"-- end file -- \\n\")\n"
   ]
  },
  {
   "cell_type": "code",
   "execution_count": null,
   "metadata": {},
   "outputs": [],
   "source": [
    "https://www.tutorialspoint.com/python_pandas/python_pandas_groupby.htm"
   ]
  }
 ],
 "metadata": {
  "language_info": {
   "codemirror_mode": {
    "name": "ipython",
    "version": 3
   },
   "file_extension": ".py",
   "mimetype": "text/x-python",
   "name": "python",
   "nbconvert_exporter": "python",
   "pygments_lexer": "ipython3",
   "version": "3.8.2-final"
  },
  "orig_nbformat": 2,
  "kernelspec": {
   "name": "python38264bit62e9895a49574bcdb01ee01389d90044",
   "display_name": "Python 3.8.2 64-bit"
  }
 },
 "nbformat": 4,
 "nbformat_minor": 2
}