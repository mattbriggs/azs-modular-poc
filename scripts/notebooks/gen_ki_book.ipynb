{
 "cells": [
  {
   "cell_type": "markdown",
   "metadata": {},
   "source": [
    "# Azure Stack Hub Known Issues - Publication Process for markdown\n",
    "\n",
    "You can find the sketch of this process at: 2020.6.18 - Initial Publication Process in the AzS Hub Content Strategy OneNote.\n",
    "This is an update to create the views for individaul areas: 2020.8.27."
   ]
  },
  {
   "cell_type": "code",
   "execution_count": 2,
   "metadata": {},
   "outputs": [],
   "source": [
    "import pandas as pd\n",
    "import numpy as np"
   ]
  },
  {
   "cell_type": "code",
   "execution_count": 3,
   "metadata": {},
   "outputs": [
    {
     "output_type": "execute_result",
     "data": {
      "text/plain": "                                                title Applicable to  \\\n67          Virtual machine diagnostic settings blade           all   \n68  Virtual machine scale set reset password does ...     1906-1907   \n69               Rainy cloud on scale set diagnostics     1906-1907   \n70                          Issues creating resources          1906   \n71          Virtual machine diagnostic settings blade     1906-1907   \n\n                                          Description  \\\n67  The virtual machine diagnostic settings blade ...   \n68  A new reset password blade appears in the scal...   \n69  The virtual machine scale set overview page sh...   \n70  There is a known issue in 1906 with custom rol...   \n71  The virtual machine diagnostic settings blade ...   \n\n                                          Remediation Occurrence      author  \\\n67                                              None.     Common  mattbriggs   \n68                                              None.     Common  mattbriggs   \n69                                              None.     Common  mattbriggs   \n70  Please update to build 1907 to mitigate this i...     Common  mattbriggs   \n71                                              None.     Common  mattbriggs   \n\n     ms.service ms.topic     ms.date ms.author ms.reviewer ms.lastreviewed  \\\n67  azure-stack  include  2020-08-14   mabrigg    kivenkat      2020-08-14   \n68  azure-stack  include  2020-08-14   mabrigg    kivenkat      2020-08-14   \n69  azure-stack  include  2020-08-14   mabrigg    kivenkat      2020-08-14   \n70  azure-stack  include  2020-08-14   mabrigg    kivenkat      2020-08-14   \n71  azure-stack  include  2020-08-14   mabrigg    kivenkat      2020-08-14   \n\n      ms.sub-service  azs.tracking  \\\n67  Virtual Machines        123456   \n68  Virtual Machines        123456   \n69  Virtual Machines        123456   \n70  Virtual Machines        123456   \n71  Virtual Machines        123456   \n\n                                        azs.issue-id azs.status  \\\n67  known-issue-f80a8111-eab0-ea11-a812-000d3a5465d8     active   \n68  known-issue-f90a8111-eab0-ea11-a812-000d3a5465d8     active   \n69  known-issue-fb0a8111-eab0-ea11-a812-000d3a5465d8     active   \n70  known-issue-fd0a8111-eab0-ea11-a812-000d3a5465d8     active   \n71  known-issue-ff0a8111-eab0-ea11-a812-000d3a5465d8     active   \n\n   azs.topic-schema azs.audience  azs.highlight  \n67      known-issue     Operator          False  \n68      known-issue     Operator          False  \n69      known-issue     Operator          False  \n70      known-issue     Operator          False  \n71      known-issue     Operator          False  ",
      "text/html": "<div>\n<style scoped>\n    .dataframe tbody tr th:only-of-type {\n        vertical-align: middle;\n    }\n\n    .dataframe tbody tr th {\n        vertical-align: top;\n    }\n\n    .dataframe thead th {\n        text-align: right;\n    }\n</style>\n<table border=\"1\" class=\"dataframe\">\n  <thead>\n    <tr style=\"text-align: right;\">\n      <th></th>\n      <th>title</th>\n      <th>Applicable to</th>\n      <th>Description</th>\n      <th>Remediation</th>\n      <th>Occurrence</th>\n      <th>author</th>\n      <th>ms.service</th>\n      <th>ms.topic</th>\n      <th>ms.date</th>\n      <th>ms.author</th>\n      <th>ms.reviewer</th>\n      <th>ms.lastreviewed</th>\n      <th>ms.sub-service</th>\n      <th>azs.tracking</th>\n      <th>azs.issue-id</th>\n      <th>azs.status</th>\n      <th>azs.topic-schema</th>\n      <th>azs.audience</th>\n      <th>azs.highlight</th>\n    </tr>\n  </thead>\n  <tbody>\n    <tr>\n      <th>67</th>\n      <td>Virtual machine diagnostic settings blade</td>\n      <td>all</td>\n      <td>The virtual machine diagnostic settings blade ...</td>\n      <td>None.</td>\n      <td>Common</td>\n      <td>mattbriggs</td>\n      <td>azure-stack</td>\n      <td>include</td>\n      <td>2020-08-14</td>\n      <td>mabrigg</td>\n      <td>kivenkat</td>\n      <td>2020-08-14</td>\n      <td>Virtual Machines</td>\n      <td>123456</td>\n      <td>known-issue-f80a8111-eab0-ea11-a812-000d3a5465d8</td>\n      <td>active</td>\n      <td>known-issue</td>\n      <td>Operator</td>\n      <td>False</td>\n    </tr>\n    <tr>\n      <th>68</th>\n      <td>Virtual machine scale set reset password does ...</td>\n      <td>1906-1907</td>\n      <td>A new reset password blade appears in the scal...</td>\n      <td>None.</td>\n      <td>Common</td>\n      <td>mattbriggs</td>\n      <td>azure-stack</td>\n      <td>include</td>\n      <td>2020-08-14</td>\n      <td>mabrigg</td>\n      <td>kivenkat</td>\n      <td>2020-08-14</td>\n      <td>Virtual Machines</td>\n      <td>123456</td>\n      <td>known-issue-f90a8111-eab0-ea11-a812-000d3a5465d8</td>\n      <td>active</td>\n      <td>known-issue</td>\n      <td>Operator</td>\n      <td>False</td>\n    </tr>\n    <tr>\n      <th>69</th>\n      <td>Rainy cloud on scale set diagnostics</td>\n      <td>1906-1907</td>\n      <td>The virtual machine scale set overview page sh...</td>\n      <td>None.</td>\n      <td>Common</td>\n      <td>mattbriggs</td>\n      <td>azure-stack</td>\n      <td>include</td>\n      <td>2020-08-14</td>\n      <td>mabrigg</td>\n      <td>kivenkat</td>\n      <td>2020-08-14</td>\n      <td>Virtual Machines</td>\n      <td>123456</td>\n      <td>known-issue-fb0a8111-eab0-ea11-a812-000d3a5465d8</td>\n      <td>active</td>\n      <td>known-issue</td>\n      <td>Operator</td>\n      <td>False</td>\n    </tr>\n    <tr>\n      <th>70</th>\n      <td>Issues creating resources</td>\n      <td>1906</td>\n      <td>There is a known issue in 1906 with custom rol...</td>\n      <td>Please update to build 1907 to mitigate this i...</td>\n      <td>Common</td>\n      <td>mattbriggs</td>\n      <td>azure-stack</td>\n      <td>include</td>\n      <td>2020-08-14</td>\n      <td>mabrigg</td>\n      <td>kivenkat</td>\n      <td>2020-08-14</td>\n      <td>Virtual Machines</td>\n      <td>123456</td>\n      <td>known-issue-fd0a8111-eab0-ea11-a812-000d3a5465d8</td>\n      <td>active</td>\n      <td>known-issue</td>\n      <td>Operator</td>\n      <td>False</td>\n    </tr>\n    <tr>\n      <th>71</th>\n      <td>Virtual machine diagnostic settings blade</td>\n      <td>1906-1907</td>\n      <td>The virtual machine diagnostic settings blade ...</td>\n      <td>None.</td>\n      <td>Common</td>\n      <td>mattbriggs</td>\n      <td>azure-stack</td>\n      <td>include</td>\n      <td>2020-08-14</td>\n      <td>mabrigg</td>\n      <td>kivenkat</td>\n      <td>2020-08-14</td>\n      <td>Virtual Machines</td>\n      <td>123456</td>\n      <td>known-issue-ff0a8111-eab0-ea11-a812-000d3a5465d8</td>\n      <td>active</td>\n      <td>known-issue</td>\n      <td>Operator</td>\n      <td>False</td>\n    </tr>\n  </tbody>\n</table>\n</div>"
     },
     "metadata": {},
     "execution_count": 3
    }
   ],
   "source": [
    "# create dataframe and drop columns and all but not ready rows.\n",
    "\n",
    "data = pd.read_csv(\"../../data/reports/knownissues_report_powerbi.csv\")\n",
    "data.tail()"
   ]
  },
  {
   "cell_type": "code",
   "execution_count": 14,
   "metadata": {
    "tags": []
   },
   "outputs": [
    {
     "output_type": "execute_result",
     "data": {
      "text/plain": "      ms.sub-service Applicable to  \\\n67  Virtual Machines           all   \n68  Virtual Machines     1906-1907   \n69  Virtual Machines     1906-1907   \n70  Virtual Machines          1906   \n71  Virtual Machines     1906-1907   \n\n                                        azs.issue-id  \n67  known-issue-f80a8111-eab0-ea11-a812-000d3a5465d8  \n68  known-issue-f90a8111-eab0-ea11-a812-000d3a5465d8  \n69  known-issue-fb0a8111-eab0-ea11-a812-000d3a5465d8  \n70  known-issue-fd0a8111-eab0-ea11-a812-000d3a5465d8  \n71  known-issue-ff0a8111-eab0-ea11-a812-000d3a5465d8  ",
      "text/html": "<div>\n<style scoped>\n    .dataframe tbody tr th:only-of-type {\n        vertical-align: middle;\n    }\n\n    .dataframe tbody tr th {\n        vertical-align: top;\n    }\n\n    .dataframe thead th {\n        text-align: right;\n    }\n</style>\n<table border=\"1\" class=\"dataframe\">\n  <thead>\n    <tr style=\"text-align: right;\">\n      <th></th>\n      <th>ms.sub-service</th>\n      <th>Applicable to</th>\n      <th>azs.issue-id</th>\n    </tr>\n  </thead>\n  <tbody>\n    <tr>\n      <th>67</th>\n      <td>Virtual Machines</td>\n      <td>all</td>\n      <td>known-issue-f80a8111-eab0-ea11-a812-000d3a5465d8</td>\n    </tr>\n    <tr>\n      <th>68</th>\n      <td>Virtual Machines</td>\n      <td>1906-1907</td>\n      <td>known-issue-f90a8111-eab0-ea11-a812-000d3a5465d8</td>\n    </tr>\n    <tr>\n      <th>69</th>\n      <td>Virtual Machines</td>\n      <td>1906-1907</td>\n      <td>known-issue-fb0a8111-eab0-ea11-a812-000d3a5465d8</td>\n    </tr>\n    <tr>\n      <th>70</th>\n      <td>Virtual Machines</td>\n      <td>1906</td>\n      <td>known-issue-fd0a8111-eab0-ea11-a812-000d3a5465d8</td>\n    </tr>\n    <tr>\n      <th>71</th>\n      <td>Virtual Machines</td>\n      <td>1906-1907</td>\n      <td>known-issue-ff0a8111-eab0-ea11-a812-000d3a5465d8</td>\n    </tr>\n  </tbody>\n</table>\n</div>"
     },
     "metadata": {},
     "execution_count": 14
    }
   ],
   "source": [
    "# operator\n",
    "\n",
    "audience = data.loc[(data['azs.status'] == 'active') | (data['azs.audience'] == 'Operator')]\n",
    "rp = audience[['ms.sub-service', 'Applicable to', 'azs.issue-id']]\n",
    "rp.tail()"
   ]
  },
  {
   "cell_type": "code",
   "execution_count": 20,
   "metadata": {
    "tags": []
   },
   "outputs": [
    {
     "output_type": "execute_result",
     "data": {
      "text/plain": "{(&#39;App Services&#39;, &#39;2002&#39;): Int64Index([54], dtype=&#39;int64&#39;),\n (&#39;Cloud Operator Issues&#39;, &#39;2008&#39;): Int64Index([41], dtype=&#39;int64&#39;),\n (&#39;Kubernetes&#39;, &#39;2008&#39;): Int64Index([17], dtype=&#39;int64&#39;),\n (&#39;Network&#39;, &#39;1906-1907&#39;): Int64Index([21], dtype=&#39;int64&#39;),\n (&#39;Network&#39;,\n  &#39;all&#39;): Int64Index([0, 1, 2, 3, 4, 5, 6, 7, 8, 9, 10, 11, 12, 13, 14, 15, 16, 18, 19,\n             20, 22],\n            dtype=&#39;int64&#39;),\n (&#39;Patch and Update&#39;, &#39;2002&#39;): Int64Index([55], dtype=&#39;int64&#39;),\n (&#39;Patch and Update&#39;, &#39;all&#39;): Int64Index([56, 57], dtype=&#39;int64&#39;),\n (&#39;SQL and MySQL&#39;, &#39;2002&#39;): Int64Index([53], dtype=&#39;int64&#39;),\n (&#39;Virtual Machines&#39;, &#39;1906&#39;): Int64Index([70], dtype=&#39;int64&#39;),\n (&#39;Virtual Machines&#39;, &#39;1906-1907&#39;): Int64Index([68, 69, 71], dtype=&#39;int64&#39;),\n (&#39;Virtual Machines&#39;, &#39;1907&#39;): Int64Index([48], dtype=&#39;int64&#39;),\n (&#39;Virtual Machines&#39;, &#39;1908&#39;): Int64Index([30, 47, 52], dtype=&#39;int64&#39;),\n (&#39;Virtual Machines&#39;, &#39;1910&#39;): Int64Index([46, 60], dtype=&#39;int64&#39;),\n (&#39;Virtual Machines&#39;, &#39;2002&#39;): Int64Index([24, 25, 29, 36, 58], dtype=&#39;int64&#39;),\n (&#39;Virtual Machines&#39;,\n  &#39;all&#39;): Int64Index([23, 26, 27, 28, 31, 32, 33, 34, 35, 37, 38, 39, 40, 42, 43, 44, 45,\n             49, 50, 51, 59, 61, 62, 63, 64, 65, 66, 67],\n            dtype=&#39;int64&#39;)}"
     },
     "metadata": {},
     "execution_count": 20
    }
   ],
   "source": [
    "rp.groupby(['ms.sub-service', 'Applicable to']).groups\n"
   ]
  },
  {
   "cell_type": "code",
   "execution_count": null,
   "metadata": {},
   "outputs": [],
   "source": [
    "https://www.tutorialspoint.com/python_pandas/python_pandas_groupby.htm"
   ]
  }
 ],
 "metadata": {
  "language_info": {
   "codemirror_mode": {
    "name": "ipython",
    "version": 3
   },
   "file_extension": ".py",
   "mimetype": "text/x-python",
   "name": "python",
   "nbconvert_exporter": "python",
   "pygments_lexer": "ipython3",
   "version": "3.8.2-final"
  },
  "orig_nbformat": 2,
  "kernelspec": {
   "name": "python38264bit62e9895a49574bcdb01ee01389d90044",
   "display_name": "Python 3.8.2 64-bit"
  }
 },
 "nbformat": 4,
 "nbformat_minor": 2
}