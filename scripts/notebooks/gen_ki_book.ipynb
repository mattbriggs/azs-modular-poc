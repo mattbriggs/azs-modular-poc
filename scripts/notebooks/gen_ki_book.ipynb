{
 "cells": [
  {
   "cell_type": "markdown",
   "metadata": {},
   "source": [
    "# Azure Stack Hub Known Issues - Publication Process for markdown\n",
    "\n",
    "You can find the sketch of this process at: 2020.6.18 - Initial Publication Process in the AzS Hub Content Strategy OneNote.\n",
    "This is an update to create the views for individaul areas: 2020.8.27."
   ]
  },
  {
   "cell_type": "code",
   "execution_count": 1,
   "metadata": {},
   "outputs": [],
   "source": [
    "import pandas as pd\n",
    "import numpy as np"
   ]
  },
  {
   "cell_type": "code",
   "execution_count": 2,
   "metadata": {},
   "outputs": [
    {
     "output_type": "execute_result",
     "data": {
      "text/plain": "                                                title Applicable to  \\\n67          Virtual machine diagnostic settings blade           all   \n68  Virtual machine scale set reset password does ...     1906-1907   \n69               Rainy cloud on scale set diagnostics     1906-1907   \n70                          Issues creating resources          1906   \n71          Virtual machine diagnostic settings blade     1906-1907   \n\n                                          Description  \\\n67  The virtual machine diagnostic settings blade ...   \n68  A new reset password blade appears in the scal...   \n69  The virtual machine scale set overview page sh...   \n70  There is a known issue in 1906 with custom rol...   \n71  The virtual machine diagnostic settings blade ...   \n\n                                          Remediation Occurrence      author  \\\n67                                              None.     Common  mattbriggs   \n68                                              None.     Common  mattbriggs   \n69                                              None.     Common  mattbriggs   \n70  Please update to build 1907 to mitigate this i...     Common  mattbriggs   \n71                                              None.     Common  mattbriggs   \n\n     ms.service ms.topic    ms.date ms.author ms.reviewer ms.lastreviewed  \\\n67  azure-stack  include  8/14/2020   mabrigg    kivenkat       8/14/2020   \n68  azure-stack  include  8/14/2020   mabrigg    kivenkat       8/14/2020   \n69  azure-stack  include  8/14/2020   mabrigg    kivenkat       8/14/2020   \n70  azure-stack  include  8/14/2020   mabrigg    kivenkat       8/14/2020   \n71  azure-stack  include  8/14/2020   mabrigg    kivenkat       8/14/2020   \n\n      ms.sub-service  azs.tracking  \\\n67  Virtual Machines        123456   \n68  Virtual Machines        123456   \n69  Virtual Machines        123456   \n70  Virtual Machines        123456   \n71  Virtual Machines        123456   \n\n                                        azs.issue-id azs.status  \\\n67  known-issue-f80a8111-eab0-ea11-a812-000d3a5465d8     active   \n68  known-issue-f90a8111-eab0-ea11-a812-000d3a5465d8     active   \n69  known-issue-fb0a8111-eab0-ea11-a812-000d3a5465d8     active   \n70  known-issue-fd0a8111-eab0-ea11-a812-000d3a5465d8     active   \n71  known-issue-ff0a8111-eab0-ea11-a812-000d3a5465d8     active   \n\n   azs.topic-schema azs.audience  azs.highlight  \n67      known-issue     Operator          False  \n68      known-issue     Operator          False  \n69      known-issue     Operator          False  \n70      known-issue     Operator          False  \n71      known-issue     Operator          False  ",
      "text/html": "<div>\n<style scoped>\n    .dataframe tbody tr th:only-of-type {\n        vertical-align: middle;\n    }\n\n    .dataframe tbody tr th {\n        vertical-align: top;\n    }\n\n    .dataframe thead th {\n        text-align: right;\n    }\n</style>\n<table border=\"1\" class=\"dataframe\">\n  <thead>\n    <tr style=\"text-align: right;\">\n      <th></th>\n      <th>title</th>\n      <th>Applicable to</th>\n      <th>Description</th>\n      <th>Remediation</th>\n      <th>Occurrence</th>\n      <th>author</th>\n      <th>ms.service</th>\n      <th>ms.topic</th>\n      <th>ms.date</th>\n      <th>ms.author</th>\n      <th>ms.reviewer</th>\n      <th>ms.lastreviewed</th>\n      <th>ms.sub-service</th>\n      <th>azs.tracking</th>\n      <th>azs.issue-id</th>\n      <th>azs.status</th>\n      <th>azs.topic-schema</th>\n      <th>azs.audience</th>\n      <th>azs.highlight</th>\n    </tr>\n  </thead>\n  <tbody>\n    <tr>\n      <th>67</th>\n      <td>Virtual machine diagnostic settings blade</td>\n      <td>all</td>\n      <td>The virtual machine diagnostic settings blade ...</td>\n      <td>None.</td>\n      <td>Common</td>\n      <td>mattbriggs</td>\n      <td>azure-stack</td>\n      <td>include</td>\n      <td>8/14/2020</td>\n      <td>mabrigg</td>\n      <td>kivenkat</td>\n      <td>8/14/2020</td>\n      <td>Virtual Machines</td>\n      <td>123456</td>\n      <td>known-issue-f80a8111-eab0-ea11-a812-000d3a5465d8</td>\n      <td>active</td>\n      <td>known-issue</td>\n      <td>Operator</td>\n      <td>False</td>\n    </tr>\n    <tr>\n      <th>68</th>\n      <td>Virtual machine scale set reset password does ...</td>\n      <td>1906-1907</td>\n      <td>A new reset password blade appears in the scal...</td>\n      <td>None.</td>\n      <td>Common</td>\n      <td>mattbriggs</td>\n      <td>azure-stack</td>\n      <td>include</td>\n      <td>8/14/2020</td>\n      <td>mabrigg</td>\n      <td>kivenkat</td>\n      <td>8/14/2020</td>\n      <td>Virtual Machines</td>\n      <td>123456</td>\n      <td>known-issue-f90a8111-eab0-ea11-a812-000d3a5465d8</td>\n      <td>active</td>\n      <td>known-issue</td>\n      <td>Operator</td>\n      <td>False</td>\n    </tr>\n    <tr>\n      <th>69</th>\n      <td>Rainy cloud on scale set diagnostics</td>\n      <td>1906-1907</td>\n      <td>The virtual machine scale set overview page sh...</td>\n      <td>None.</td>\n      <td>Common</td>\n      <td>mattbriggs</td>\n      <td>azure-stack</td>\n      <td>include</td>\n      <td>8/14/2020</td>\n      <td>mabrigg</td>\n      <td>kivenkat</td>\n      <td>8/14/2020</td>\n      <td>Virtual Machines</td>\n      <td>123456</td>\n      <td>known-issue-fb0a8111-eab0-ea11-a812-000d3a5465d8</td>\n      <td>active</td>\n      <td>known-issue</td>\n      <td>Operator</td>\n      <td>False</td>\n    </tr>\n    <tr>\n      <th>70</th>\n      <td>Issues creating resources</td>\n      <td>1906</td>\n      <td>There is a known issue in 1906 with custom rol...</td>\n      <td>Please update to build 1907 to mitigate this i...</td>\n      <td>Common</td>\n      <td>mattbriggs</td>\n      <td>azure-stack</td>\n      <td>include</td>\n      <td>8/14/2020</td>\n      <td>mabrigg</td>\n      <td>kivenkat</td>\n      <td>8/14/2020</td>\n      <td>Virtual Machines</td>\n      <td>123456</td>\n      <td>known-issue-fd0a8111-eab0-ea11-a812-000d3a5465d8</td>\n      <td>active</td>\n      <td>known-issue</td>\n      <td>Operator</td>\n      <td>False</td>\n    </tr>\n    <tr>\n      <th>71</th>\n      <td>Virtual machine diagnostic settings blade</td>\n      <td>1906-1907</td>\n      <td>The virtual machine diagnostic settings blade ...</td>\n      <td>None.</td>\n      <td>Common</td>\n      <td>mattbriggs</td>\n      <td>azure-stack</td>\n      <td>include</td>\n      <td>8/14/2020</td>\n      <td>mabrigg</td>\n      <td>kivenkat</td>\n      <td>8/14/2020</td>\n      <td>Virtual Machines</td>\n      <td>123456</td>\n      <td>known-issue-ff0a8111-eab0-ea11-a812-000d3a5465d8</td>\n      <td>active</td>\n      <td>known-issue</td>\n      <td>Operator</td>\n      <td>False</td>\n    </tr>\n  </tbody>\n</table>\n</div>"
     },
     "metadata": {},
     "execution_count": 2
    }
   ],
   "source": [
    "# create dataframe and drop columns and all but not ready rows.\n",
    "\n",
    "data = pd.read_csv(\"../../data/reports/knownissues_report_powerbi.csv\")\n",
    "data.tail()"
   ]
  },
  {
   "cell_type": "code",
   "execution_count": 3,
   "metadata": {
    "tags": []
   },
   "outputs": [
    {
     "output_type": "stream",
     "name": "stdout",
     "text": "1906\n1906-1907\n1907\n1908\n1910\n2002\n2008\nall\n"
    }
   ],
   "source": [
    "active_KI = data[(data[\"azs.status\"] == 'active')]\n",
    "releases_KI = active_KI.groupby('Applicable to')[['ms.sub-service','azs.issue-id']]\n",
    "releases_KI.last()\n",
    "\n",
    "\n",
    "for release, group in releases_KI:\n",
    "    print(release)\n"
   ]
  },
  {
   "cell_type": "code",
   "execution_count": 4,
   "metadata": {
    "tags": []
   },
   "outputs": [
    {
     "output_type": "stream",
     "name": "stdout",
     "text": "::: moniker range=\"<azs-1906\"\n\n\n## Virtual Machines\n\n![INCLUDE](/azure-stack/include/known-issue-fd0a8111-eab0-ea11-a812-000d3a5465d8.md)\n::: moniker-end\n::: moniker range=\"<azs-1906-1907\"\n\n\n## Network\n\n![INCLUDE](/azure-stack/include/known-issue-1b0b8111-eab0-ea11-a812-000d3a5465d8.md)\n\n\n## Virtual Machines\n\n![INCLUDE](/azure-stack/include/known-issue-f90a8111-eab0-ea11-a812-000d3a5465d8.md)\n![INCLUDE](/azure-stack/include/known-issue-fb0a8111-eab0-ea11-a812-000d3a5465d8.md)\n![INCLUDE](/azure-stack/include/known-issue-ff0a8111-eab0-ea11-a812-000d3a5465d8.md)\n::: moniker-end\n::: moniker range=\"<azs-1907\"\n\n\n## Virtual Machines\n\n![INCLUDE](/azure-stack/include/known-issue-9fbc45b7-ebb0-ea11-a812-000d3a5465d8.md)\n::: moniker-end\n::: moniker range=\"<azs-1908\"\n\n\n## Virtual Machines\n\n![INCLUDE](/azure-stack/include/known-issue-8dbc45b7-ebb0-ea11-a812-000d3a5465d8.md)\n![INCLUDE](/azure-stack/include/known-issue-9ebc45b7-ebb0-ea11-a812-000d3a5465d8.md)\n![INCLUDE](/azure-stack/include/known-issue-a5bc45b7-ebb0-ea11-a812-000d3a5465d8.md)\n::: moniker-end\n::: moniker range=\"<azs-1910\"\n\n\n## Virtual Machines\n\n![INCLUDE](/azure-stack/include/known-issue-9cbc45b7-ebb0-ea11-a812-000d3a5465d8.md)\n![INCLUDE](/azure-stack/include/known-issue-ec0a8111-eab0-ea11-a812-000d3a5465d8.md)\n::: moniker-end\n::: moniker range=\"<azs-2002\"\n\n\n## App Services\n\n![INCLUDE](/azure-stack/include/known-issue-a7bc45b7-ebb0-ea11-a812-000d3a5465d8.md)\n\n\n## Patch and Update\n\n![INCLUDE](/azure-stack/include/known-issue-a8bc45b7-ebb0-ea11-a812-000d3a5465d8.md)\n\n\n## SQL and MySQL\n\n![INCLUDE](/azure-stack/include/known-issue-a6bc45b7-ebb0-ea11-a812-000d3a5465d8.md)\n\n\n## Virtual Machines\n\n![INCLUDE](/azure-stack/include/known-issue-603348db-e9b0-ea11-a812-000d3a5465d8.md)\n![INCLUDE](/azure-stack/include/known-issue-8376b38e-e9b0-ea11-a812-000d3a54663d.md)\n![INCLUDE](/azure-stack/include/known-issue-8cbc45b7-ebb0-ea11-a812-000d3a5465d8.md)\n![INCLUDE](/azure-stack/include/known-issue-9576b38e-e9b0-ea11-a812-000d3a54663d.md)\n![INCLUDE](/azure-stack/include/known-issue-ea0a8111-eab0-ea11-a812-000d3a5465d8.md)\n::: moniker-end\n::: moniker range=\"<azs-2008\"\n\n\n## Cloud Operator Issues\n\n![INCLUDE](/azure-stack/include/known-issue-97e5d3ad-cb96-4401-b0eb-90667cf51bd7.md)\n\n\n## Kubernetes\n\n![INCLUDE](/azure-stack/include/known-issue-15799987-988a-4c68-bd67-9e66174176e2.md)\n::: moniker-end\n::: moniker range=\"<azs-all\"\n\n\n## Network\n\n![INCLUDE](/azure-stack/include/known-issue-000b8111-eab0-ea11-a812-000d3a5465d8.md)\n![INCLUDE](/azure-stack/include/known-issue-010b8111-eab0-ea11-a812-000d3a5465d8.md)\n![INCLUDE](/azure-stack/include/known-issue-030b8111-eab0-ea11-a812-000d3a5465d8.md)\n![INCLUDE](/azure-stack/include/known-issue-040b8111-eab0-ea11-a812-000d3a5465d8.md)\n![INCLUDE](/azure-stack/include/known-issue-050b8111-eab0-ea11-a812-000d3a5465d8.md)\n![INCLUDE](/azure-stack/include/known-issue-060b8111-eab0-ea11-a812-000d3a5465d8.md)\n![INCLUDE](/azure-stack/include/known-issue-070b8111-eab0-ea11-a812-000d3a5465d8.md)\n![INCLUDE](/azure-stack/include/known-issue-090b8111-eab0-ea11-a812-000d3a5465d8.md)\n![INCLUDE](/azure-stack/include/known-issue-0a0b8111-eab0-ea11-a812-000d3a5465d8.md)\n![INCLUDE](/azure-stack/include/known-issue-0b0b8111-eab0-ea11-a812-000d3a5465d8.md)\n![INCLUDE](/azure-stack/include/known-issue-0c0b8111-eab0-ea11-a812-000d3a5465d8.md)\n![INCLUDE](/azure-stack/include/known-issue-0d0b8111-eab0-ea11-a812-000d3a5465d8.md)\n![INCLUDE](/azure-stack/include/known-issue-0e0b8111-eab0-ea11-a812-000d3a5465d8.md)\n![INCLUDE](/azure-stack/include/known-issue-0f0b8111-eab0-ea11-a812-000d3a5465d8.md)\n![INCLUDE](/azure-stack/include/known-issue-100b8111-eab0-ea11-a812-000d3a5465d8.md)\n![INCLUDE](/azure-stack/include/known-issue-110b8111-eab0-ea11-a812-000d3a5465d8.md)\n![INCLUDE](/azure-stack/include/known-issue-140b8111-eab0-ea11-a812-000d3a5465d8.md)\n![INCLUDE](/azure-stack/include/known-issue-160b8111-eab0-ea11-a812-000d3a5465d8.md)\n![INCLUDE](/azure-stack/include/known-issue-180b8111-eab0-ea11-a812-000d3a5465d8.md)\n![INCLUDE](/azure-stack/include/known-issue-190b8111-eab0-ea11-a812-000d3a5465d8.md)\n![INCLUDE](/azure-stack/include/known-issue-1d0b8111-eab0-ea11-a812-000d3a5465d8.md)\n\n\n## Patch and Update\n\n![INCLUDE](/azure-stack/include/known-issue-a9bc45b7-ebb0-ea11-a812-000d3a5465d8.md)\n![INCLUDE](/azure-stack/include/known-issue-aabc45b7-ebb0-ea11-a812-000d3a5465d8.md)\n\n\n## Virtual Machines\n\n![INCLUDE](/azure-stack/include/known-issue-5c3348db-e9b0-ea11-a812-000d3a5465d8.md)\n![INCLUDE](/azure-stack/include/known-issue-87bc45b7-ebb0-ea11-a812-000d3a5465d8.md)\n![INCLUDE](/azure-stack/include/known-issue-8abc45b7-ebb0-ea11-a812-000d3a5465d8.md)\n![INCLUDE](/azure-stack/include/known-issue-8bbc45b7-ebb0-ea11-a812-000d3a5465d8.md)\n![INCLUDE](/azure-stack/include/known-issue-8ebc45b7-ebb0-ea11-a812-000d3a5465d8.md)\n![INCLUDE](/azure-stack/include/known-issue-8fbc45b7-ebb0-ea11-a812-000d3a5465d8.md)\n![INCLUDE](/azure-stack/include/known-issue-92bc45b7-ebb0-ea11-a812-000d3a5465d8.md)\n![INCLUDE](/azure-stack/include/known-issue-93bc45b7-ebb0-ea11-a812-000d3a5465d8.md)\n![INCLUDE](/azure-stack/include/known-issue-9476b38e-e9b0-ea11-a812-000d3a54663d.md)\n![INCLUDE](/azure-stack/include/known-issue-95bc45b7-ebb0-ea11-a812-000d3a5465d8.md)\n![INCLUDE](/azure-stack/include/known-issue-9676b38e-e9b0-ea11-a812-000d3a54663d.md)\n![INCLUDE](/azure-stack/include/known-issue-9776b38e-e9b0-ea11-a812-000d3a54663d.md)\n![INCLUDE](/azure-stack/include/known-issue-97bc45b7-ebb0-ea11-a812-000d3a5465d8.md)\n![INCLUDE](/azure-stack/include/known-issue-98bc45b7-ebb0-ea11-a812-000d3a5465d8.md)\n![INCLUDE](/azure-stack/include/known-issue-99bc45b7-ebb0-ea11-a812-000d3a5465d8.md)\n![INCLUDE](/azure-stack/include/known-issue-9abc45b7-ebb0-ea11-a812-000d3a5465d8.md)\n![INCLUDE](/azure-stack/include/known-issue-9b76b38e-e9b0-ea11-a812-000d3a54663d.md)\n![INCLUDE](/azure-stack/include/known-issue-a2bc45b7-ebb0-ea11-a812-000d3a5465d8.md)\n![INCLUDE](/azure-stack/include/known-issue-a3bc45b7-ebb0-ea11-a812-000d3a5465d8.md)\n![INCLUDE](/azure-stack/include/known-issue-a4bc45b7-ebb0-ea11-a812-000d3a5465d8.md)\n![INCLUDE](/azure-stack/include/known-issue-eb0a8111-eab0-ea11-a812-000d3a5465d8.md)\n![INCLUDE](/azure-stack/include/known-issue-ed0a8111-eab0-ea11-a812-000d3a5465d8.md)\n![INCLUDE](/azure-stack/include/known-issue-ee0a8111-eab0-ea11-a812-000d3a5465d8.md)\n![INCLUDE](/azure-stack/include/known-issue-f00a8111-eab0-ea11-a812-000d3a5465d8.md)\n![INCLUDE](/azure-stack/include/known-issue-f50a8111-eab0-ea11-a812-000d3a5465d8.md)\n![INCLUDE](/azure-stack/include/known-issue-f60a8111-eab0-ea11-a812-000d3a5465d8.md)\n![INCLUDE](/azure-stack/include/known-issue-f70a8111-eab0-ea11-a812-000d3a5465d8.md)\n![INCLUDE](/azure-stack/include/known-issue-f80a8111-eab0-ea11-a812-000d3a5465d8.md)\n::: moniker-end\n"
    }
   ],
   "source": [
    "# Build moniker / area\n",
    "\n",
    "for release, group in releases_KI:\n",
    "    print('::: moniker range=\"<azs-{}\"'.format(release))\n",
    "    section = data[(data[\"Applicable to\"] == release)]  \n",
    "    group_KI = group.groupby('ms.sub-service')[['ms.sub-service','azs.issue-id']]\n",
    "    for item, sub in group_KI:\n",
    "        print(\"\\n\\n## {}\\n\".format(item))\n",
    "        for i in sub['azs.issue-id'].get_values():\n",
    "            print(\"![INCLUDE](/azure-stack/include/{}.md)\".format(i))\n",
    "    print('::: moniker-end')"
   ]
  },
  {
   "cell_type": "code",
   "execution_count": null,
   "metadata": {},
   "outputs": [],
   "source": []
  }
 ],
 "metadata": {
  "language_info": {
   "codemirror_mode": {
    "name": "ipython",
    "version": 3
   },
   "file_extension": ".py",
   "mimetype": "text/x-python",
   "name": "python",
   "nbconvert_exporter": "python",
   "pygments_lexer": "ipython3",
   "version": "3.8.2-final"
  },
  "orig_nbformat": 2,
  "kernelspec": {
   "name": "python38264bit62e9895a49574bcdb01ee01389d90044",
   "display_name": "Python 3.8.2 64-bit"
  }
 },
 "nbformat": 4,
 "nbformat_minor": 2
}